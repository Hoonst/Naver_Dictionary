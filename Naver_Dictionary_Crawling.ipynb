{
 "cells": [
  {
   "cell_type": "markdown",
   "metadata": {},
   "source": [
    "# Naver Dictionary Crawling"
   ]
  },
  {
   "cell_type": "markdown",
   "metadata": {},
   "source": [
    "Module Needed"
   ]
  },
  {
   "cell_type": "code",
   "execution_count": 1,
   "metadata": {},
   "outputs": [],
   "source": [
    "#필요한 모듈\n",
    "import os\n",
    "import pandas as pd\n",
    "import requests\n",
    "from bs4 import BeautifulSoup\n",
    "\n",
    "os.chdir(\"C:/Users/yoonh/OneDrive/바탕 화면/crawling\")"
   ]
  },
  {
   "cell_type": "markdown",
   "metadata": {},
   "source": [
    "Core Code"
   ]
  },
  {
   "cell_type": "code",
   "execution_count": 4,
   "metadata": {},
   "outputs": [
    {
     "name": "stdout",
     "output_type": "stream",
     "text": [
      "네이버 영어사전 크롤러.made by Hoonst\n",
      "원하는 단어를 입력하세요: acid\n",
      "원하는 페이지 수를 입력하세요(페이지 수를 미리 알아두세용): 3\n",
      "원하는 파일의 이름을 입력하세요: \n",
      "PASS\n",
      "PASS\n",
      "PASS\n",
      "PASS\n",
      "PASS\n",
      "PASS\n",
      "PASS\n",
      "PASS\n",
      "PASS\n",
      "PASS\n",
      "PASS\n",
      "PASS\n",
      "PASS\n",
      "PASS\n",
      "PASS\n",
      "PASS\n"
     ]
    }
   ],
   "source": [
    "print(\"네이버 영어사전 크롤러.made by Hoonst\")\n",
    "want_word = input(\"원하는 단어를 입력하세요: \")\n",
    "want_page = int(input(\"원하는 페이지 수를 입력하세요(페이지 수를 미리 알아두세용): \"))\n",
    "want_filename = input(\"원하는 파일의 이름을 입력하세요: \")\n",
    "eng_list = []    \n",
    "source_list = []\n",
    "korea_list = []\n",
    "for i in range(1, want_page + 1):\n",
    "    req = requests.get('http://endic.naver.com/search_example.nhn?sLn=kr&examType=example&query=' + str(want_word) + '&pageNo=' +str(i))\n",
    "    html = req.text\n",
    "    soup = BeautifulSoup(html, 'html.parser')\n",
    "\n",
    "    total_package = soup.select(\"li.utb\")\n",
    "    \n",
    "    for i in total_package:\n",
    "        if i.find('a', class_= 'user_ts'):\n",
    "            print('PASS')\n",
    "            pass\n",
    "        else:\n",
    "            english= i.find(\n",
    "                'span', class_='_ttsText'\n",
    "            )\n",
    "            source = i.find(\n",
    "                'a', class_='source'\n",
    "            )\n",
    "            korea = i.find(\n",
    "                'a', class_= 'N=a:xmp.detail'\n",
    "            )\n",
    "            \n",
    "        eng_list.append(english.text)\n",
    "        if source == None:\n",
    "            source_list.append(\"Can't find the source\")\n",
    "        else:\n",
    "            source_list.append(source.text)\n",
    "        korea_list.append(korea.text)"
   ]
  },
  {
   "cell_type": "code",
   "execution_count": 3,
   "metadata": {},
   "outputs": [],
   "source": [
    "df = pd.DataFrame({'English Sentence':eng_list,\n",
    "                   'Korean': korea_list, \n",
    "                   'Source': source_list})\n",
    "df = df.drop_duplicates(['English Sentence'], keep = 'first')\n",
    "df.to_excel(want_filename+'.xlsx', sheet_name = 'sheet1')"
   ]
  },
  {
   "cell_type": "code",
   "execution_count": null,
   "metadata": {},
   "outputs": [],
   "source": []
  }
 ],
 "metadata": {
  "kernelspec": {
   "display_name": "Python 3",
   "language": "python",
   "name": "python3"
  },
  "language_info": {
   "codemirror_mode": {
    "name": "ipython",
    "version": 3
   },
   "file_extension": ".py",
   "mimetype": "text/x-python",
   "name": "python",
   "nbconvert_exporter": "python",
   "pygments_lexer": "ipython3",
   "version": "3.6.4"
  },
  "latex_envs": {
   "LaTeX_envs_menu_present": true,
   "autoclose": false,
   "autocomplete": true,
   "bibliofile": "biblio.bib",
   "cite_by": "apalike",
   "current_citInitial": 1,
   "eqLabelWithNumbers": true,
   "eqNumInitial": 1,
   "hotkeys": {
    "equation": "Ctrl-E",
    "itemize": "Ctrl-I"
   },
   "labels_anchors": false,
   "latex_user_defs": false,
   "report_style_numbering": false,
   "user_envs_cfg": false
  },
  "varInspector": {
   "cols": {
    "lenName": 16,
    "lenType": 16,
    "lenVar": 40
   },
   "kernels_config": {
    "python": {
     "delete_cmd_postfix": "",
     "delete_cmd_prefix": "del ",
     "library": "var_list.py",
     "varRefreshCmd": "print(var_dic_list())"
    },
    "r": {
     "delete_cmd_postfix": ") ",
     "delete_cmd_prefix": "rm(",
     "library": "var_list.r",
     "varRefreshCmd": "cat(var_dic_list()) "
    }
   },
   "types_to_exclude": [
    "module",
    "function",
    "builtin_function_or_method",
    "instance",
    "_Feature"
   ],
   "window_display": false
  }
 },
 "nbformat": 4,
 "nbformat_minor": 2
}
